{
 "cells": [
  {
   "cell_type": "markdown",
   "metadata": {},
   "source": [
    "# Lecture 17 - Random Numbers in Python & Monte Carlo - HW 8"
   ]
  },
  {
   "cell_type": "markdown",
   "metadata": {},
   "source": [
    "## 1) Random Numbers and Radio Activity\n",
    "\n",
    "The isotope $^{213}$Bi decays to stable $^{209}$Bi via one of two different routes, with probabilities and\n",
    "half-lives thus\n",
    "\n",
    "<img src=\"Decay9.jpg\" alt=\"Decay process for Bi213 to Bi209\" title=\"Bismuth Decay\" />\n",
    "\n",
    "(Technically, $^{209}$Bi isnt really stable, but it has a half-life of more than $10^{19}$ years, a billion\n",
    "times the age of the universe, so it might as well be.)\n",
    "\n",
    "Starting with a sample consisting of 10,000 atoms of $^{213}$Bi, simulate the decay of the atoms\n",
    "by dividing time into slices of length $\\delta t = 1$s each and on each step doing\n",
    "the following:\n",
    "\n",
    "1. For each atom of $^{209}$Pb in turn, decide at random, with the appropriate probability, whether it decays or not. (The probability can be calculated from $p(t) = 1 − 2t/\\tau $, where $\\tau$ is the half life.) Count the total number that decay, subtract it from the number of $^{209}$Pb atoms, and add it to the number of $^{209}$Bi atoms.\n",
    "\n",
    "2. Now do the same for $^{209}$Tl, except that decaying atoms are subtracted from the total for $^{209}$Tl and added to the total for $^{209}$Pb.\n",
    "\n",
    "3. For $^{213}$Bi the situation is more complicated: when a $^{213}$Bi atom decays you have to decide at random with the appropriate probability the route by which it decays. Count the numbers that decay by each route and add and subtract accordingly.\n",
    "\n",
    "Note that you have to work up the chain from the bottom like this, not down from the top,\n",
    "to avoid inadvertently making the same atom decay twice on a single step.\n",
    "\n",
    "Keep track of the number of atoms of each of the four isotopes at all times for 20,000 seconds\n",
    "and make a single graph showing the four numbers as a function of time on the same axes.\n",
    "\n"
   ]
  },
  {
   "cell_type": "code",
   "execution_count": 50,
   "metadata": {},
   "outputs": [
    {
     "name": "stdout",
     "output_type": "stream",
     "text": [
      "\n"
     ]
    },
    {
     "data": {
      "image/png": "[encoded data removed]",
      "text/plain": [
       "<Figure size 432x288 with 1 Axes>"
      ]
     },
     "metadata": {
      "needs_background": "light"
     },
     "output_type": "display_data"
    }
   ],
   "source": [
    "# Write Code Here\n",
    "\n",
    "# Write Code Here\n",
    "import numpy as np\n",
    "from numpy import arange\n",
    "from pylab import plot,xlabel,ylabel,show\n",
    "\n",
    "# Constants\n",
    "NBi213 = 10000            \n",
    "NTl209 = 0               \n",
    "NPb209 = 0             \n",
    "NBi209 = 0\n",
    "tau1 = 3.3*60        \n",
    "tau2 = 2.2*60\n",
    "tau3 = 46*60\n",
    "h = 1.0               # Size of time-step in seconds\n",
    "p1 = 1 - 2**(-h/tau1) # Probability of decay in one step\n",
    "p2 = 1 - 2**(-h/tau2)\n",
    "p3 = 1 - 2**(-h/tau3)\n",
    "tmax = 20000            # Total time\n",
    "\n",
    "# Lists of plot points\n",
    "tpoints = arange(0.0,tmax,h) # make time array\n",
    "Bi213points = []\n",
    "Tl209points = []\n",
    "Pb209points = []\n",
    "Bi209points = []\n",
    "\n",
    "# Main loop\n",
    "for t in tpoints:   \n",
    "    Bi213points.append(NBi213)\n",
    "    Tl209points.append(NTl209)\n",
    "    Pb209points.append(NPb209) # append starting # of Pb209 atoms\n",
    "    Bi209points.append(NBi209) # append starting # of Bi209 atoms\n",
    "\n",
    "    # Calculate the number of atoms that decay from Pb209 to Bi209\n",
    "    decay1 = 0\n",
    "    for i in range(NPb209): # determine number of atoms that decay\n",
    "        if np.random.random() < p1:\n",
    "            decay1 += 1\n",
    "    NPb209 -= decay1 # subtract number of decayed Parent atoms \n",
    "    NBi209 += decay1 # add number of decayed Daughter atoms\n",
    "    \n",
    "    # Calculate the number of atoms that decay from Tl209 to Pb209\n",
    "    decay2 = 0\n",
    "    for j in range(NTl209):\n",
    "        if np.random.random() < p2:\n",
    "            decay2 += 1\n",
    "    NTl209 -= decay2\n",
    "    NPb209 += decay2\n",
    "    \n",
    "    # Calculate the number of atoms that decay from Bi213 to Tl209 with 2.09%\n",
    "    decay3 = 0\n",
    "    for k in range(NBi213):\n",
    "        if np.random.random() < p3:\n",
    "            decay3 += 1\n",
    "            #NBi213 -=decay3\n",
    "            if np.random.random()*100 > 2.09:\n",
    "                NPb209 += 1\n",
    "                NBi213 -= 1\n",
    "            else:\n",
    "                NTl209 += 1\n",
    "                NBi213 -= 1\n",
    "                #print(NTl209+NBi213+NPb209+NBi209)\n",
    "\n",
    "# Make the graph\n",
    "print()\n",
    "plot(tpoints,Pb209points, c='r') # plot Pb209 vs. time\n",
    "plot(tpoints,Bi209points, c='g') # plot Bi209 vs. time\n",
    "plot(tpoints,Tl209points, c='b')\n",
    "plot(tpoints,Bi213points, c='c')\n",
    "xlabel(\"Time\")\n",
    "ylabel(\"Number of atoms\")\n",
    "show()"
   ]
  },
  {
   "cell_type": "markdown",
   "metadata": {},
   "source": [
    "## 2) Lets Make a Deal\n",
    "Monte Carlo methods are often useful to ensure that our thinking is reasonable. A good\n",
    "example of this kind of use is to investigate a simple problem that generated much attention\n",
    "several years ago and for which many mathematicians obtained an incorrect solution.\n",
    "\n",
    "The problem was the analysis of the optimal strategy in a television game show popular at\n",
    "the time. The show was Lets Make a Deal with host Monty Hall. At some point in the show,\n",
    "a contestant was given a choice of selecting one of three possible items, each concealed behind\n",
    "one of three closed doors. The items varied considerably in value.\n",
    "\n",
    "After the contestant made a choice but before the chosen door was opened, the\n",
    "host, who knew where the most valuable item was, would open one of the doors\n",
    "not selected and reveal a worthless item.\n",
    "\n",
    "**The host would then offer to let the contestant select a different door from what was originally\n",
    "selected. The question, of course, is should the contestant switch?**\n",
    "\n",
    "<img src=\"Monty_Hall_Problem.jpg\" alt=\"Decay process for Bi213 to Bi209\" title=\"Bismuth Decay\" />\n",
    "\n",
    "\n",
    "\n",
    "Much interest in this problem was generated when it was analyzed by a popular magazine\n",
    "writer, Marilyn vos Savant, who concluded that the optimal strategy is to switch. This\n",
    "strategy is counterintuitive to many mathematicians, who would say that there is nothing to\n",
    "be gained by switching; that is, that the probability of improving the selection is 0.5. Study\n",
    "this problem by Monte Carlo methods. Be careful to understand all of the assumptions\n",
    "\n",
    "**Write a code that implement this test for 1000 “games”, 500 where the contestant choose to KEEP their choice of door, and 500 where contestant chooses to CHANGE their choice of door:**\n",
    "\n",
    "\n",
    "## Determine if there is probability of improving the selection by switching, and if so by how much?\n",
    "\n"
   ]
  },
  {
   "cell_type": "code",
   "execution_count": 1,
   "metadata": {},
   "outputs": [
    {
     "name": "stdout",
     "output_type": "stream",
     "text": [
      "Probability of winning after switching the door:67.6000%\n",
      "Probability of winning after keeping the door: 32.4000%\n"
     ]
    }
   ],
   "source": [
    "# Write Code Here\n",
    "import numpy as np\n",
    "from numpy import arange\n",
    "\n",
    "import random\n",
    "\n",
    "def probability(wins):\n",
    "    change_wins = (0)\n",
    "    keep_wins = (0)\n",
    "    \n",
    "    for doors in range (wins):\n",
    "        prize_door = random.randint(1,3)\n",
    "        select_door = random.randint(1,3)\n",
    "    \n",
    "        doors_to_open = [door for door in [1,2,3] if door != prize_door and door != select_door]\n",
    "        opened_door = random.choice(doors_to_open)\n",
    "    \n",
    "        remaining_doors = [door for door in[1,2,3] if door != select_door and door != opened_door]\n",
    "        changed_door = remaining_doors[0]\n",
    "    \n",
    "        if select_door == prize_door:\n",
    "            keep_wins += 1\n",
    "        \n",
    "        if changed_door == prize_door:\n",
    "            change_wins += 1 \n",
    "        \n",
    "    keep_probability = (keep_wins / wins)*100\n",
    "    change_probability = (change_wins / wins)*100\n",
    "    return keep_probability, change_probability \n",
    "\n",
    "wins = 1000\n",
    "keep_prob, change_prob = probability(wins)\n",
    "\n",
    "print(f\"Probability of winning after switching the door:{change_prob:.4f}%\")\n",
    "print(f\"Probability of winning after keeping the door: {keep_prob:.4f}%\")\n",
    "        \n",
    "\n"
   ]
  },
  {
   "cell_type": "code",
   "execution_count": null,
   "metadata": {},
   "outputs": [],
   "source": []
  }
 ],
 "metadata": {
  "kernelspec": {
   "display_name": "Python 3",
   "language": "python",
   "name": "python3"
  },
  "language_info": {
   "codemirror_mode": {
    "name": "ipython",
    "version": 3
   },
   "file_extension": ".py",
   "mimetype": "text/x-python",
   "name": "python",
   "nbconvert_exporter": "python",
   "pygments_lexer": "ipython3",
   "version": "3.8.5"
  }
 },
 "nbformat": 4,
 "nbformat_minor": 4
}
