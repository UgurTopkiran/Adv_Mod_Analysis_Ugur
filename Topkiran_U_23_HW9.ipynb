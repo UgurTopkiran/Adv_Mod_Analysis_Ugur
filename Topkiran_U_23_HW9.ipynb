{
 "cells": [
  {
   "cell_type": "markdown",
   "metadata": {},
   "source": [
    "# Phyiscs Problems - Lectures 18 & 19 - Homework 9 \n",
    "\n",
    "FALL 2023\n"
   ]
  },
  {
   "cell_type": "markdown",
   "metadata": {},
   "source": [
    "### 1) Altitude of a satellite\n",
    "\n",
    "A satellite is to be launched into a circular orbit around the Earth so that it orbits the planet once every T seconds.\n",
    "\n",
    "The altitude h above the Earth’s surface that the satellite must have is:\n",
    "\n",
    "$$h = \\left( \\frac{G M T^2}{4\\pi^2} \\right)^{1/3} - R$$\n",
    "\n",
    "where $G = 6.67 \\times 10^{-11}$ m$^3$ kg$^{-1}$ s$^{-2}$\n",
    "is Newton's gravitational constant, $M = 5.97 \\times 10^{24}$ kg is the mass of the Earth, and $R = 6371$ km is its radius.\n",
    "\n",
    "#### Write a program that asks the user to enter the desired value of T and then calculates and prints out the correct altitude in meters.\n"
   ]
  },
  {
   "cell_type": "code",
   "execution_count": 1,
   "metadata": {},
   "outputs": [
    {
     "name": "stdout",
     "output_type": "stream",
     "text": [
      "Enter T: 500\n",
      "-5009889.203113169 m\n"
     ]
    }
   ],
   "source": [
    "import math\n",
    "\n",
    "T = float(input(\"Enter T: \"))\n",
    "G = 6.67*10**(-11)\n",
    "M = 5.97*10**(24)\n",
    "R = 6371*1000\n",
    "h = ((G*M*(T**2))/(4*math.pi*math.pi))**(1/3) - R\n",
    "print(h,\"m\")"
   ]
  },
  {
   "cell_type": "markdown",
   "metadata": {},
   "source": [
    "Use your program to calculate the altitudes of satellites that orbit the Earth once\n",
    "a day (so-called “geosynchronous” orbit), once every 90 minutes, and once every\n",
    "45 minutes. What do you conclude from the last of these calculations?\n",
    "\n",
    "\n",
    "\n"
   ]
  },
  {
   "cell_type": "code",
   "execution_count": 2,
   "metadata": {},
   "outputs": [
    {
     "name": "stdout",
     "output_type": "stream",
     "text": [
      "35855910.17617497\n",
      "279321.62537285965\n",
      "-2181559.8978108233\n"
     ]
    }
   ],
   "source": [
    "T_45 = 45*60\n",
    "T_90 = 90*60\n",
    "T_D = 24*60*60\n",
    "G = 6.67*10**(-11)\n",
    "M = 5.97*10**(24)\n",
    "R = 6371*1000\n",
    "h = ((G*M*(T**2))/(4*math.pi*math.pi))**(1/3) - R\n",
    "for i in range(3):\n",
    "    if i == 2:\n",
    "        h = ((G*M*((T_45)**2))/(4*(math.pi**2)))**(1/3) - R\n",
    "        print(h)\n",
    "    elif i ==1:\n",
    "        h = ((G*M*((T_90)**2))/(4*(math.pi**2)))**(1/3) - R\n",
    "        print(h)\n",
    "    else:\n",
    "        h = ((G*M*((T_D)**2))/(4*(math.pi**2)))**(1/3) - R\n",
    "        print(h)"
   ]
  },
  {
   "cell_type": "markdown",
   "metadata": {},
   "source": [
    "Technically a geosynchronous satellite is one that orbits the Earth once persidereal\n",
    "day, which is 23.93 hours, not 24 hours. Why is this? And how much difference\n",
    "will it make to the altitude of the satellite?"
   ]
  },
  {
   "cell_type": "code",
   "execution_count": 3,
   "metadata": {},
   "outputs": [
    {
     "name": "stdout",
     "output_type": "stream",
     "text": [
      "35855910.17617497 35773762.329895645 82147.8462793231\n"
     ]
    }
   ],
   "source": [
    "T_GS = 23.93*60*60\n",
    "T_D = 24*60*60\n",
    "G = 6.67*10**(-11)\n",
    "M = 5.97*10**(24)\n",
    "R = 6371*1000\n",
    "h_GS = ((G*M*(T_GS**2))/(4*math.pi*math.pi))**(1/3) - R\n",
    "h_D = ((G*M*(T_D**2))/(4*math.pi*math.pi))**(1/3) - R\n",
    "diff = h_D - h_GS\n",
    "print(h_D, h_GS, diff)"
   ]
  },
  {
   "cell_type": "markdown",
   "metadata": {},
   "source": [
    "#### Modify your code to calculate the times from 0.5 hour  to 30 days, in steps of 0.5 hours.   Then plot those data points (time vs h) with properly labled axes.  Plot orbits with height below 0 as red, and plots positive heeghts with times less than geosynchronous in blue and those longer in green."
   ]
  },
  {
   "cell_type": "code",
   "execution_count": 9,
   "metadata": {},
   "outputs": [
    {
     "data": {
      "image/png": "[encoded data removed]",
      "text/plain": [
       "<Figure size 432x288 with 1 Axes>"
      ]
     },
     "metadata": {
      "needs_background": "light"
     },
     "output_type": "display_data"
    }
   ],
   "source": [
    "import numpy as np\n",
    "import matplotlib.pyplot as plt\n",
    "from numpy import arange\n",
    "from pylab import plot,xlabel,ylabel,show\n",
    "\n",
    "\n",
    "\n",
    "T_Start = 30*60\n",
    "T_End = 30*24*60*60 + 30*60\n",
    "G = 6.67*10**(-11)\n",
    "M = 5.97*10**(24)\n",
    "R = 6371*1000\n",
    "h_GS = ((G*M*(T_GS**2))/(4*math.pi*math.pi))**(1/3) - R\n",
    "\n",
    "# plot points\n",
    "h = 30*60\n",
    "tpoints = arange(T_Start,T_End, h) \n",
    "Heights = [] \n",
    "\n",
    "\n",
    "T = T_Start\n",
    "while T != T_End:\n",
    "    h = ((G*M*(T**2))/(4*math.pi*math.pi))**(1/3) - R\n",
    "    \n",
    "    Heights.append(h)\n",
    "    T += (30*60)\n",
    "    if T == T_End:\n",
    "        break\n",
    "Heights = np.array(Heights)\n",
    "\n",
    "keep_r = (Heights < 0)\n",
    "keep_b = (Heights > 0) & (tpoints < 86400)\n",
    "keep_g = (Heights >= h_GS)\n",
    "tpoints = np.array(tpoints)\n",
    "plt.scatter(tpoints, Heights, c='c')\n",
    "plt.scatter(tpoints[keep_b], Heights[keep_b], c='b')\n",
    "plt.scatter(tpoints[keep_r], Heights[keep_r], c='k')\n",
    "\n",
    "show()\n"
   ]
  },
  {
   "cell_type": "markdown",
   "metadata": {},
   "source": [
    "### 2) Special Relativity\n",
    "\n",
    "A spaceship travels from Earth in a straight line at a (relativistic)\n",
    "speed $v$ to another planet $x$ light years away. Write a program to ask\n",
    "the user for the value of $x$ and the speed $v$ as a fraction of the speed\n",
    "of light, then print out the time in years that the spaceship takes to\n",
    "reach its destination (a) in the rest frame of an observer on Earth\n",
    "and (b) as perceived by a passenger on board the ship.\n",
    "\n",
    "$$x' = \\gamma (x - vt)$$\n",
    "\n",
    "$$t' = \\gamma \\left(t - \\frac{v x}{c^2}\\right)$$\n",
    "\n",
    "$$\\gamma = \\frac{1}{\\sqrt{1 - \\frac{v^2}{c^2}}}$$\n"
   ]
  },
  {
   "cell_type": "code",
   "execution_count": 10,
   "metadata": {},
   "outputs": [
    {
     "name": "stdout",
     "output_type": "stream",
     "text": [
      "What is the distance of the other planet in lightyears: 500\n",
      "What is the speed of the spaceship as fraction of the speed of light: 300\n",
      "1.6666666666666667 (3.060681508841163e-14+499.8472230478418j)\n"
     ]
    }
   ],
   "source": [
    "import numpy as np\n",
    "x_rest = float(input(\"What is the distance of the other planet in lightyears: \"))\n",
    "v_rest = float(input(\"What is the speed of the spaceship as fraction of the speed of light: \"))\n",
    "gamma = (1-(v_rest)**2)**(1/2)\n",
    "t_rest = x_rest/v_rest\n",
    "\n",
    "t_ship = gamma*(t_rest-(v_rest*x_rest)/(3*10**(8)))\n",
    "print(t_rest, t_ship)"
   ]
  },
  {
   "cell_type": "markdown",
   "metadata": {},
   "source": [
    "#### Use your program to calculate the answers for a planet 10 light years away with $v = 0.90c$,  $v = 0.98c$, $v = 0.999c$."
   ]
  },
  {
   "cell_type": "code",
   "execution_count": 11,
   "metadata": {},
   "outputs": [
    {
     "name": "stdout",
     "output_type": "stream",
     "text": [
      "What is the distance of the other planet in lightyears: 500\n",
      "What is the speed of the spaceship as as fraction of the speed of light: 23\n",
      "21.73913043478261 (-3.0587218511235845e-14+499.5271866554808j)\n"
     ]
    }
   ],
   "source": [
    "import numpy as np\n",
    "x_rest = float(input(\"What is the distance of the other planet in lightyears: \"))\n",
    "v_rest = float(input(\"What is the speed of the spaceship as as fraction of the speed of light: \"))\n",
    "gamma = 1/(1-(v_rest)**2)**(1/2)\n",
    "t_rest = x_rest/v_rest\n",
    "\n",
    "t_ship = gamma*(t_rest-(v_rest*x_rest))\n",
    "print(t_rest, t_ship)"
   ]
  },
  {
   "cell_type": "markdown",
   "metadata": {},
   "source": [
    "### 3) The quadratic equation\n",
    "\n",
    " Write a program that takes as input three numbers, $a$, $b$, and $c$, and prints out the two solutions to the quadratic equation $ax^2 + bx + c = 0$ using the standard\n",
    "formula:\n",
    "\n",
    "$$x = \\frac{-b \\pm \\sqrt{b^2 - 4ac}}{2a}$$\n",
    "\n",
    "Use your program to compute the solutions of $0.001x^2 + 1000x + 0.001 = 0$."
   ]
  },
  {
   "cell_type": "code",
   "execution_count": 12,
   "metadata": {},
   "outputs": [
    {
     "name": "stdout",
     "output_type": "stream",
     "text": [
      "What is the coefficient of x squared : 0.001\n",
      "What is the coefficient of x : 1000\n",
      "What is the coefficient without an x variable: 0.001\n",
      "-9.999894245993346e-07 -999999.999999\n"
     ]
    }
   ],
   "source": [
    "a = float(input(\"What is the coefficient of x squared : \"))\n",
    "b = float(input(\"What is the coefficient of x : \"))\n",
    "c = float(input(\"What is the coefficient without an x variable: \"))\n",
    "\n",
    "x_pos = (-b + ((b**2) - (4 * a * c))**(1/2))/(2*a)\n",
    "\n",
    "x_neg = (-b - ((b**2) - 4 * a * c)**(1/2))/(2*a)\n",
    "\n",
    "print(x_pos, x_neg)"
   ]
  },
  {
   "cell_type": "markdown",
   "metadata": {},
   "source": [
    "There is another way to write the solutions to a quadratic equation. Multiplying top and bottom of the solution above by $-b \\mp \\sqrt{b^2 - 4ac}$, show that the solutions\n",
    "can also be written as:\n",
    "\n",
    "$$x = \\frac{2c}{-b \\mp \\sqrt{b^2 - 4ac}}$$\n",
    "\n",
    "Add further lines to your program to print these values in addition to the earlier ones and again use the program to solve $0.001x^2 + 1000x + 0.001 = 0$. What do you see? How do you explain it?"
   ]
  },
  {
   "cell_type": "code",
   "execution_count": 13,
   "metadata": {},
   "outputs": [
    {
     "name": "stdout",
     "output_type": "stream",
     "text": [
      "What is the coefficient of x squared: 0.001\n",
      "What is the coefficient of x : 2\n",
      "What is the coefficient without an x variable: 3\n",
      "-1998.4988733093498 -1.501126690670722\n"
     ]
    }
   ],
   "source": [
    "a = float(input(\"What is the coefficient of x squared: \"))\n",
    "b = float(input(\"What is the coefficient of x : \"))\n",
    "c = float(input(\"What is the coefficient without an x variable: \"))\n",
    "\n",
    "x_pos = (2*c)/(-b + ((b**2) - (4 * a * c))**(1/2))\n",
    "x_neg = (2*c)/(-b - ((b**2) - (4 * a * c))**(1/2))\n",
    "\n",
    "print(x_pos, x_neg)"
   ]
  },
  {
   "cell_type": "markdown",
   "metadata": {},
   "source": [
    "Using what you have learned, write a new program that calculates both roots of a quadratic equation accurately in all cases."
   ]
  },
  {
   "cell_type": "markdown",
   "metadata": {},
   "source": [
    "### 4) Planetary orbits\n",
    "\n",
    "The orbit in space of one body around another, such as a planet around the Sun, need not be circular. In general it takes the form of an ellipse, with the body sometimes closer in and sometimes further out. If you are given the distance $l_1$ of closest approach that a planet makes to the Sun, also called its perihelion, and its linear velocity $v_1$ at *perihelion*, then any other property of the orbit can be calculated from these two as follows.\n",
    "\n",
    "Kepler’s second law tells us that the distance $l_2$ and velocity $v_2$ of the planet at its most distant point, or *aphelion*, satisfy $l_2 v_2 = l_1 v_1$. \n",
    "\n",
    "\n",
    "Given the values of $v_1$, $l_1$, and $l_2$, other parameters of the orbit are given by simple formulas can that be derived from Kepler’s laws and the fact that the orbit is an ellipse:\n",
    "\n",
    "Semi-Major Axis $$ a = \\frac{1}{2} (l_1 + l_2) $$ \n",
    "Semi-Minor Axis: $$ b = \\sqrt{l_1  l_2} $$ \n",
    "Orbital Period: $$ T = \\frac{2 \\pi a b}{l_1 v_1} $$ \n",
    "Orbital eccentricity:  $$ e = \\frac{l_2 - l_1}{l_2 + l_1}$$\n",
    "\n",
    "#### Write a program with functions that asks the user to enter the distance to the Sun and velocity at perihelion, then calculates and prints the quantities $l2$, $v2$, $a$, $b$, $T$, and $e$.\n",
    "\n",
    "\n"
   ]
  },
  {
   "cell_type": "code",
   "execution_count": 14,
   "metadata": {},
   "outputs": [
    {
     "name": "stdout",
     "output_type": "stream",
     "text": [
      "What is the v_1 value: 4\n",
      "What is the l_1 value: 4\n",
      "What is the l_2 value: 4\n",
      "8.0\n",
      "8.0\n",
      "25.132741228718345\n",
      "0.0\n"
     ]
    }
   ],
   "source": [
    "import math\n",
    "\n",
    "\n",
    "def Semi_major_axis_a(x, y):\n",
    "    a = 0.5 * x * y\n",
    "    return a\n",
    "def Semi_major_axis_b(x, y):\n",
    "    b = (x*y)**(1/2)\n",
    "    return b\n",
    "def Orbital_Period(x, y, z, t):\n",
    "    T = (2 * math.pi * x * y)/(z*t)\n",
    "    return T\n",
    "def Orbital_eccentricity(x, y):\n",
    "    ec = (y - x)/(y + x)\n",
    "    return ec\n",
    "def vel(l1, v1):\n",
    "    G = 6.6*10**(-11)\n",
    "    M = 6*10**(24)\n",
    "    a = 1\n",
    "    b = -2*G*M/(l1*v1)\n",
    "    c = (2*G*M)/l1 - v1**2\n",
    "    v_pos = (-b + (b**2 - 4*a*c)**(1/2))/(2*a)\n",
    "    v_neg = (-b - (b**2 - 4*a*c)**(1/2))/(2*a)\n",
    "    if v_pos < 0:\n",
    "        return v_neg\n",
    "    else:\n",
    "        return v_pos\n",
    "    \n",
    "#inputs\n",
    "G = 6.6*10**(-11)\n",
    "M = 6*10**(24)\n",
    "v_1 = float(input(\"What is the v_1 value: \"))\n",
    "l_1 = float(input(\"What is the l_1 value: \"))\n",
    "l_2 = float(input(\"What is the l_2 value: \"))\n",
    "\n",
    "#unknowns\n",
    "a = Semi_major_axis_a(l_1, l_2)\n",
    "print (a)\n",
    "b = Semi_major_axis_a(l_1, l_2)\n",
    "print(b)\n",
    "T = Orbital_Period(a, b, l_1, v_1)\n",
    "print(T)\n",
    "e = Orbital_eccentricity(l_1, l_2)\n",
    "print(e)\n",
    "v2 = vel(l_1, v_1)\n"
   ]
  },
  {
   "cell_type": "markdown",
   "metadata": {},
   "source": [
    "#### Test your program by having it calculate the properties of the orbits of the Earth (for which $l_1 = 1.4710 \\times 10^{11}$ m and $v_1 = 3.0287 \\times 10^4$ m s$^{−1}$ ) and Halley’s comet ($l_1 = 8.7830 \\times 10^{10}$ m and $v_1 = 5.4529 \\times 10^4$ m s${−1}$ ). Among other things, you should find that the orbital period of the Earth is one year and that of Halley’s comet is about 76 years."
   ]
  },
  {
   "cell_type": "code",
   "execution_count": 15,
   "metadata": {},
   "outputs": [
    {
     "name": "stdout",
     "output_type": "stream",
     "text": [
      "594.0844501083993 8061618292022.5 4074724146011.25 4074724146011.25 690.7156100246666 0.9784451666290154\n"
     ]
    }
   ],
   "source": [
    "import math\n",
    "\n",
    "def Semi_major_axis_a(x, y):\n",
    "    a = 0.5 * (x + y)\n",
    "    return a\n",
    "def Semi_major_axis_b(x, y):\n",
    "    b = (x*y)**(1/2)\n",
    "    return b\n",
    "def Orbital_Period(x, y, z, t):\n",
    "    T = (2 * math.pi * x * y)/(z*t)\n",
    "    return T\n",
    "def Orbital_eccentricity(x, y):\n",
    "    ec = (y - x)/(y + x)\n",
    "    return ec\n",
    "def vel(l1, v1):\n",
    "    G = 6.6*10**(-11)\n",
    "    M = 2e30\n",
    "    a = 1\n",
    "    b = (-1*2*G*M)/(l1*v1)\n",
    "    c = (2*G*M)/l1 - v1**2\n",
    "    v_pos = (-b + (b**2 - 4*a*c)**(1/2))/(2*a)\n",
    "    v_neg = (-b - (b**2 - 4*a*c)**(1/2))/(2*a)\n",
    "    if v_pos < v_neg:\n",
    "        return v_pos\n",
    "    else:\n",
    "        return v_neg\n",
    "def params(l1, v1):\n",
    "    v2 = vel(l1, v1)\n",
    "    l2 = l1*v1/v2\n",
    "    a = Semi_major_axis_a(l1, l2)\n",
    "    b = Semi_major_axis_a(l1, l2)\n",
    "    T = Orbital_Period(a, b, l1, v1)\n",
    "    T_year = T/(60*60*24*365)\n",
    "    e = Orbital_eccentricity(l1, l2)\n",
    "    print(v2, l2, a, b, T_year, e)\n",
    "#inputs\n",
    "l_1 = 8.783e10\n",
    "v_1 = 5.4529e4\n",
    "params(l_1, v_1)"
   ]
  },
  {
   "cell_type": "code",
   "execution_count": null,
   "metadata": {},
   "outputs": [],
   "source": []
  }
 ],
 "metadata": {
  "kernelspec": {
   "display_name": "Python 3",
   "language": "python",
   "name": "python3"
  },
  "language_info": {
   "codemirror_mode": {
    "name": "ipython",
    "version": 3
   },
   "file_extension": ".py",
   "mimetype": "text/x-python",
   "name": "python",
   "nbconvert_exporter": "python",
   "pygments_lexer": "ipython3",
   "version": "3.8.5"
  }
 },
 "nbformat": 4,
 "nbformat_minor": 4
}
